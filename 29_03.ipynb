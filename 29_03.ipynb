{
 "cells": [
  {
   "attachments": {},
   "cell_type": "markdown",
   "metadata": {},
   "source": [
    "# creation of nd arrayd using np.random library\n",
    "np.random contains several methods for this:\n",
    "\n",
    "    -   randint\n",
    "    -   rand\n",
    "    -   uniform\n",
    "    -   randn\n",
    "    -   normal\n",
    "    -   shuffle"
   ]
  },
  {
   "attachments": {},
   "cell_type": "markdown",
   "metadata": {},
   "source": [
    "# randint\n",
    "to generate random integer values in the given range\n",
    "<code>randint(low, high=None, size=None, dtype=int)</code>"
   ]
  },
  {
   "cell_type": "code",
   "execution_count": 52,
   "metadata": {},
   "outputs": [],
   "source": [
    "import numpy as np\n",
    "import pandas as pd"
   ]
  },
  {
   "cell_type": "code",
   "execution_count": 18,
   "metadata": {},
   "outputs": [
    {
     "name": "stdout",
     "output_type": "stream",
     "text": [
      "a=0\n"
     ]
    }
   ],
   "source": [
    "a = np.random.randint(2)\n",
    "print(f'{a=}')\n"
   ]
  },
  {
   "cell_type": "code",
   "execution_count": 20,
   "metadata": {},
   "outputs": [
    {
     "name": "stdout",
     "output_type": "stream",
     "text": [
      "a=8\n"
     ]
    }
   ],
   "source": [
    "a = np.random.randint(1, 10)\n",
    "print(f'{a=}')"
   ]
  },
  {
   "cell_type": "code",
   "execution_count": 29,
   "metadata": {},
   "outputs": [
    {
     "name": "stdout",
     "output_type": "stream",
     "text": [
      "1D-Array\n",
      "a=array([17, 15, 10, 10, 10, 12, 18, 10, 11, 19])\n",
      "a.shape=(10,)\n",
      "a.size=10\n",
      "a.ndim=1\n",
      "**************************************************\n",
      "2D-Array\n",
      "a=array([[ 9, 19],\n",
      "       [ 6,  5]])\n",
      "a.shape=(2, 2)\n",
      "a.size=4\n",
      "a.ndim=2\n",
      "**************************************************\n",
      "3D-Array\n",
      "a=array([[[44, 40],\n",
      "        [21,  2]],\n",
      "\n",
      "       [[70, 87],\n",
      "        [79, 92]]])\n",
      "a.shape=(2, 2, 2)\n",
      "a.size=8\n",
      "a.ndim=3\n",
      "**************************************************\n"
     ]
    }
   ],
   "source": [
    "a = np.random.randint(10, 20, (10,))\n",
    "print(\"1D-Array\")\n",
    "print(f'{a=}')\n",
    "print(f'{a.shape=}')\n",
    "print(f'{a.size=}')\n",
    "print(f'{a.ndim=}')\n",
    "print(\"*\"*50)\n",
    "a = np.random.randint(20, size=(2,2))\n",
    "print(\"2D-Array\")\n",
    "print(f'{a=}')\n",
    "print(f'{a.shape=}')\n",
    "print(f'{a.size=}')\n",
    "print(f'{a.ndim=}')\n",
    "print(\"*\"*50)\n",
    "a = np.random.randint(101, size=(2,2,2))\n",
    "print(\"3D-Array\")\n",
    "print(f'{a=}')\n",
    "print(f'{a.shape=}')\n",
    "print(f'{a.size=}')\n",
    "print(f'{a.ndim=}')\n",
    "print(\"*\"*50)"
   ]
  },
  {
   "attachments": {},
   "cell_type": "markdown",
   "metadata": {},
   "source": [
    "# rand()\n",
    "- generates normal flot values in the range of 0 to 1\n",
    "-  Create an array of the given shape and populate it with random samples from a uniform distribution"
   ]
  },
  {
   "cell_type": "code",
   "execution_count": 41,
   "metadata": {},
   "outputs": [
    {
     "name": "stdout",
     "output_type": "stream",
     "text": [
      "a=0.07977654246074561\n",
      "**************************************************\n",
      "1D-Array\n",
      "a=array([0.32626425, 0.73400067, 0.04323955, 0.30984306, 0.94212247,\n",
      "       0.71349914, 0.75672318, 0.73220432, 0.88918469, 0.14450316])\n",
      "a.shape=(10,)\n",
      "a.size=10\n",
      "a.ndim=1\n",
      "**************************************************\n",
      "2D-Array\n",
      "a=array([[0.0257513 , 0.79968617],\n",
      "       [0.30444209, 0.55883737]])\n",
      "a.shape=(2, 2)\n",
      "a.size=4\n",
      "a.ndim=2\n",
      "**************************************************\n",
      "3D-Array\n",
      "a=array([[[0.65456087, 0.52182385, 0.89565822],\n",
      "        [0.822231  , 0.33764226, 0.9512567 ],\n",
      "        [0.64195072, 0.2408099 , 0.88153111]],\n",
      "\n",
      "       [[0.51461137, 0.93369194, 0.34394881],\n",
      "        [0.20483309, 0.96903985, 0.95325912],\n",
      "        [0.23913343, 0.00177364, 0.93059067]],\n",
      "\n",
      "       [[0.56530333, 0.06896937, 0.856688  ],\n",
      "        [0.39770484, 0.08504434, 0.38569025],\n",
      "        [0.93404876, 0.88147915, 0.81024777]]])\n",
      "a.shape=(3, 3, 3)\n",
      "a.size=27\n",
      "a.ndim=3\n",
      "**************************************************\n"
     ]
    }
   ],
   "source": [
    "a = np.random.rand()\n",
    "print(f'{a=}')\n",
    "print(\"*\"*50)\n",
    "a = np.random.rand(10)\n",
    "print(\"1D-Array\")\n",
    "print(f'{a=}')\n",
    "print(f'{a.shape=}')\n",
    "print(f'{a.size=}')\n",
    "print(f'{a.ndim=}')\n",
    "print(\"*\"*50)\n",
    "a = np.random.rand(2, 2)\n",
    "print(\"2D-Array\")\n",
    "print(f'{a=}')\n",
    "print(f'{a.shape=}')\n",
    "print(f'{a.size=}')\n",
    "print(f'{a.ndim=}')\n",
    "print(\"*\"*50)\n",
    "a = np.random.rand(3, 3, 3)\n",
    "print(\"3D-Array\")\n",
    "print(f'{a=}')\n",
    "print(f'{a.shape=}')\n",
    "print(f'{a.size=}')\n",
    "print(f'{a.ndim=}')\n",
    "print(\"*\"*50)\n"
   ]
  },
  {
   "attachments": {},
   "cell_type": "markdown",
   "metadata": {},
   "source": [
    "### with rand we can not define any range, but if we want to define range for the values, we must use uniform function.\n",
    "# uniform\n",
    "\n",
    "  Samples are uniformly distributed over the half-open interval\n",
    "    ``[low, high)`` (includes low, but excludes high).  In other words,\n",
    "    any value within the given interval is equally likely to be drawn\n",
    "    by `uniform`."
   ]
  },
  {
   "cell_type": "code",
   "execution_count": 59,
   "metadata": {},
   "outputs": [
    {
     "name": "stdout",
     "output_type": "stream",
     "text": [
      "a=0.31396490382008313\n",
      "**************************************************\n",
      "a=17.818589652779\n",
      "**************************************************\n",
      "1D-Array\n",
      "a=array([13.40715708, 18.2301113 , 13.87115834, 11.72972045, 18.77624514,\n",
      "       18.1848368 , 11.23070144, 17.10949952, 19.22075502, 18.71189677])\n",
      "a.shape=(10,)\n",
      "a.size=10\n",
      "a.ndim=1\n",
      "**************************************************\n",
      "2D-Array\n",
      "a=array([[18.5896513 , 18.82379873],\n",
      "       [16.26408578, 10.01951008]])\n",
      "a.shape=(2, 2)\n",
      "a.size=4\n",
      "a.ndim=2\n",
      "**************************************************\n",
      "3D-Array\n",
      "a=array([[[19.27702411, 12.66316774, 16.66982178],\n",
      "        [10.10680061, 11.74665306, 19.24486987],\n",
      "        [12.87992672, 17.05202032, 18.96896689]],\n",
      "\n",
      "       [[19.24557036, 15.60298863, 14.30188206],\n",
      "        [12.76165095, 16.52223737, 13.04779847],\n",
      "        [10.53145592, 19.99527973, 19.73088034]],\n",
      "\n",
      "       [[13.0925139 , 13.62705669, 19.72059255],\n",
      "        [17.84018958, 14.15085619, 19.06010781],\n",
      "        [11.84485455, 17.39479028, 18.823291  ]]])\n",
      "a.shape=(3, 3, 3)\n",
      "a.size=27\n",
      "a.ndim=3\n",
      "**************************************************\n"
     ]
    }
   ],
   "source": [
    "a = np.random.uniform()\n",
    "# If not passing any argument, uniform will act like rand only.\n",
    "print(f'{a=}')\n",
    "print(\"*\"*50)\n",
    "a = np.random.uniform(10, 20)\n",
    "print(f'{a=}')\n",
    "print(\"*\"*50)\n",
    "a = np.random.uniform(10, 20, (10,))\n",
    "print(\"1D-Array\")\n",
    "print(f'{a=}')\n",
    "print(f'{a.shape=}')\n",
    "print(f'{a.size=}')\n",
    "print(f'{a.ndim=}')\n",
    "print(\"*\"*50)\n",
    "a = np.random.uniform(10, 20, (2, 2))\n",
    "print(\"2D-Array\")\n",
    "print(f'{a=}')\n",
    "print(f'{a.shape=}')\n",
    "print(f'{a.size=}')\n",
    "print(f'{a.ndim=}')\n",
    "print(\"*\"*50)\n",
    "a = np.random.uniform(10, 20, (3, 3, 3))\n",
    "print(\"3D-Array\")\n",
    "print(f'{a=}')\n",
    "print(f'{a.shape=}')\n",
    "print(f'{a.size=}')\n",
    "print(f'{a.ndim=}')\n",
    "print(\"*\"*50)"
   ]
  },
  {
   "attachments": {},
   "cell_type": "markdown",
   "metadata": {},
   "source": [
    "### difference between uniform distribution and normal ditribution\n",
    "    -   if values are approxmately side by side like (10, 11, 8, 9, 11, 12, 10, 10, 11) if is uniform distribution\n",
    "    -   If values are like rising to some point and then going down, (1, 2, 3, 4, 5, 6, 7, 8, 9). Here min is 1, max is 9, mean in 5, variance is 4.\n",
    "\n"
   ]
  },
  {
   "cell_type": "code",
   "execution_count": 67,
   "metadata": {},
   "outputs": [
    {
     "data": {
      "text/plain": [
       "<Axes: ylabel='Frequency'>"
      ]
     },
     "execution_count": 67,
     "metadata": {},
     "output_type": "execute_result"
    },
    {
     "data": {
      "image/png": "[encoded data removed]",
      "text/plain": [
       "<Figure size 640x480 with 1 Axes>"
      ]
     },
     "metadata": {},
     "output_type": "display_data"
    },
    {
     "data": {
      "image/png": "[encoded data removed]",
      "text/plain": [
       "<Figure size 640x480 with 1 Axes>"
      ]
     },
     "metadata": {},
     "output_type": "display_data"
    }
   ],
   "source": [
    "s = np.random.uniform(20, 30, size=1000000)\n",
    "pd.DataFrame(s).plot(kind='hist')\n",
    "s = np.random.normal(20, 30, size=1000000)\n",
    "pd.DataFrame(s).plot(kind='hist')"
   ]
  },
  {
   "attachments": {},
   "cell_type": "markdown",
   "metadata": {},
   "source": [
    "# randn: \n",
    "    -   Return a sample (or samples) from the \"standard normal\" distribution.\n",
    "    -   returns normal distrubution between -1 to 1.\n"
   ]
  },
  {
   "cell_type": "code",
   "execution_count": null,
   "metadata": {},
   "outputs": [],
   "source": [
    "a = np.random.randn()\n",
    "print(f'{a=}')\n",
    "print(\"*\"*50)\n",
    "a = np.random.randn(10)\n",
    "print(\"1D-Array\")\n",
    "print(f'{a=}')\n",
    "print(f'{a.shape=}')\n",
    "print(f'{a.size=}')\n",
    "print(f'{a.ndim=}')\n",
    "print(\"*\"*50)\n",
    "a = np.random.randn(2, 2)\n",
    "print(\"2D-Array\")\n",
    "print(f'{a=}')\n",
    "print(f'{a.shape=}')\n",
    "print(f'{a.size=}')\n",
    "print(f'{a.ndim=}')\n",
    "print(\"*\"*50)\n",
    "a = np.random.randn(3, 3, 3)\n",
    "print(\"3D-Array\")\n",
    "print(f'{a=}')\n",
    "print(f'{a.shape=}')\n",
    "print(f'{a.size=}')\n",
    "print(f'{a.ndim=}')\n",
    "print(\"*\"*50)"
   ]
  },
  {
   "attachments": {},
   "cell_type": "markdown",
   "metadata": {},
   "source": [
    "### with randn we can not define any range, but if we want to define range for the values, we must use normal function.\n",
    "# normal\n",
    "    -   Draw random samples from a normal (Gaussian) distribution."
   ]
  },
  {
   "cell_type": "code",
   "execution_count": null,
   "metadata": {},
   "outputs": [],
   "source": [
    "a = np.random.normal()\n",
    "# If not passing any argument, normal will act like randn only.\n",
    "print(f'{a=}')\n",
    "print(\"*\"*50)\n",
    "a = np.random.normal(5, 5)\n",
    "print(f'{a=}')\n",
    "print(\"*\"*50)\n",
    "a = np.random.normal(10, 4, (10,))\n",
    "print(\"1D-Array\")\n",
    "print(f'{a=}')\n",
    "print(f'{a.shape=}')\n",
    "print(f'{a.size=}')\n",
    "print(f'{a.ndim=}')\n",
    "print(\"*\"*50)\n",
    "a = np.random.normal(5, 5, (2, 2))\n",
    "print(\"2D-Array\")\n",
    "print(f'{a=}')\n",
    "print(f'{a.shape=}')\n",
    "print(f'{a.size=}')\n",
    "print(f'{a.ndim=}')\n",
    "print(\"*\"*50)\n",
    "a = np.random.normal(5, 5, (3, 3, 3))\n",
    "print(\"3D-Array\")\n",
    "print(f'{a=}')\n",
    "print(f'{a.shape=}')\n",
    "print(f'{a.size=}')\n",
    "print(f'{a.ndim=}')\n",
    "print(\"*\"*50)"
   ]
  },
  {
   "cell_type": "markdown",
   "metadata": {},
   "source": []
  }
 ],
 "metadata": {
  "kernelspec": {
   "display_name": "Python 3",
   "language": "python",
   "name": "python3"
  },
  "language_info": {
   "codemirror_mode": {
    "name": "ipython",
    "version": 3
   },
   "file_extension": ".py",
   "mimetype": "text/x-python",
   "name": "python",
   "nbconvert_exporter": "python",
   "pygments_lexer": "ipython3",
   "version": "3.10.10"
  },
  "orig_nbformat": 4
 },
 "nbformat": 4,
 "nbformat_minor": 2
}

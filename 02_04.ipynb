{
 "cells": [
  {
   "attachments": {},
   "cell_type": "markdown",
   "metadata": {},
   "source": [
    "# How to get/access elements of numpy array.\n",
    "    -   there are two ways we can access elements of np array:\n",
    "        1. Indexing: gives single element\n",
    "        2. Slicing: Gives single/slice of array."
   ]
  },
  {
   "cell_type": "code",
   "execution_count": 2,
   "metadata": {},
   "outputs": [],
   "source": [
    "import numpy as np"
   ]
  },
  {
   "cell_type": "code",
   "execution_count": 5,
   "metadata": {},
   "outputs": [
    {
     "name": "stdout",
     "output_type": "stream",
     "text": [
      "a=array([10, 20, 30, 40, 50])\n",
      "(10, 20, 30, 40, 50)\n",
      "(50, 40, 30, 20, 10)\n"
     ]
    }
   ],
   "source": [
    "a = np.array((10, 20, 30, 40, 50))\n",
    "print(f\"{a=}\")\n",
    "print(f\"{a[0], a[1], a[2], a[3], a[4]}\")\n",
    "# numpy also supports negative indexing\n",
    "print(f\"{a[-1], a[-2], a[-3], a[-4], a[-5]}\")"
   ]
  },
  {
   "cell_type": "code",
   "execution_count": 9,
   "metadata": {},
   "outputs": [
    {
     "name": "stdout",
     "output_type": "stream",
     "text": [
      "a=array([[10, 20, 30],\n",
      "       [40, 50, 60],\n",
      "       [70, 80, 90]])\n",
      "a[0][1]=20\n",
      "a[-1][-1]=90\n",
      "a[1][1]=50\n",
      "a[-2][-2]=50\n"
     ]
    }
   ],
   "source": [
    "# accessing elements from 2d-array\n",
    "a = np.array(((10, 20, 30), (40, 50, 60), (70, 80, 90)))\n",
    "print(f\"{a=}\")\n",
    "print(f\"{a[0][1]=}\")\n",
    "print(f\"{a[-1][-1]=}\")\n",
    "# accessing 50\n",
    "print(f\"{a[1][1]=}\")\n",
    "print(f\"{a[-2][-2]=}\")\n"
   ]
  },
  {
   "cell_type": "code",
   "execution_count": 6,
   "metadata": {},
   "outputs": [
    {
     "name": "stdout",
     "output_type": "stream",
     "text": [
      "a=array([[[ 1,  2,  3],\n",
      "        [ 4,  5,  6],\n",
      "        [ 7,  8,  9]],\n",
      "\n",
      "       [[10, 11, 12],\n",
      "        [13, 14, 15],\n",
      "        [16, 17, 18]],\n",
      "\n",
      "       [[19, 20, 21],\n",
      "        [22, 23, 24],\n",
      "        [25, 26, 27]]])\n",
      "a[0][1][1]=5\n",
      "a[-1][-1]=array([25, 26, 27])\n",
      "a[1][1]=array([13, 14, 15])\n",
      "a[-2][-2]=array([13, 14, 15])\n",
      "a[1][-2]=array([13, 14, 15])\n",
      "a[-2][1]=array([13, 14, 15])\n"
     ]
    }
   ],
   "source": [
    "# accessing elements from 3d-array\n",
    "a = np.arange(start=1, stop=28).reshape((3, 3, 3))\n",
    "print(f\"{a=}\")\n",
    "print(f\"{a[0][1][1]=}\")\n",
    "print(f\"{a[-1][-1]=}\")\n",
    "print(f\"{a[1][1]=}\")\n",
    "print(f\"{a[-2][-2]=}\")\n",
    "print(f\"{a[1][-2]=}\")\n",
    "print(f\"{a[-2][1]=}\")"
   ]
  },
  {
   "cell_type": "code",
   "execution_count": 9,
   "metadata": {},
   "outputs": [
    {
     "data": {
      "text/plain": [
       "(array([], dtype=int64), array([], dtype=int64), array([], dtype=int64))"
      ]
     },
     "execution_count": 9,
     "metadata": {},
     "output_type": "execute_result"
    }
   ],
   "source": [
    "np.where(a==29)"
   ]
  },
  {
   "attachments": {},
   "cell_type": "markdown",
   "metadata": {},
   "source": [
    "# Slicing in python\n",
    "-   If we want to take a piece of nd array, we must go for slice operator.\n",
    "-   syntax for slicing is [start:stop:step]\n",
    "-   It returns elements from start to (stop-1) index.\n",
    "-   Default for\n",
    "    -   begin => 0\n",
    "    -   end =>  -1 or (length of array)\n",
    "    -   step => 1\n"
   ]
  },
  {
   "cell_type": "code",
   "execution_count": 22,
   "metadata": {},
   "outputs": [
    {
     "name": "stdout",
     "output_type": "stream",
     "text": [
      "a[0:4]=array([10, 20, 30, 40])\n",
      "a[2:6]=array([30, 40, 50, 60])\n",
      "a[2:]=array([30, 40, 50, 60, 70])\n",
      "a[:-1]=array([10, 20, 30, 40, 50, 60])\n",
      "a[-5:-1]=array([30, 40, 50, 60])\n",
      "a[-5:7]=array([30, 40, 50, 60, 70])\n",
      "a[1:7:1]=array([20, 30, 40, 50, 60, 70])\n",
      "a[1:7:-1]=array([], dtype=int64)\n",
      "a[7:1:-1]=array([70, 60, 50, 40, 30])\n"
     ]
    }
   ],
   "source": [
    "a = np.array((10, 20, 30, 40, 50, 60, 70))\n",
    "print(f'{a[0:4]=}')\n",
    "print(f'{a[2:6]=}')\n",
    "print(f'{a[2:]=}')\n",
    "print(f'{a[:-1]=}')\n",
    "print(f'{a[-5:-1]=}')\n",
    "print(f'{a[-5:7]=}')\n",
    "print(f'{a[1:7:1]=}')\n",
    "print(f'{a[1:7:-1]=}')\n",
    "print(f'{a[7:1:-1]=}')\n"
   ]
  },
  {
   "cell_type": "code",
   "execution_count": 24,
   "metadata": {},
   "outputs": [
    {
     "name": "stdout",
     "output_type": "stream",
     "text": [
      "a[5:-10: 2]=array([], dtype=int64)\n",
      "a[5:-10: -2]=array([60, 40, 20])\n"
     ]
    }
   ],
   "source": [
    "            # 00, 01, 02, 03, 04, 05, 06, 07, 08, 09\n",
    "a = np.array((10, 20, 30, 40, 50, 60, 70, 80, 90, 100))\n",
    "            # -10, -9, -8, -7, -6, -5, -4, -3, -2, -1\n",
    "\n",
    "print(f\"{a[5:-10: 2]=}\")\n",
    "print(f\"{a[5:-10: -2]=}\")"
   ]
  },
  {
   "attachments": {},
   "cell_type": "markdown",
   "metadata": {},
   "source": [
    "# slice operator on 2d-arrays\n",
    "    row             column\n",
    "a[begin:end:step, begin:end:step]"
   ]
  },
  {
   "cell_type": "code",
   "execution_count": 32,
   "metadata": {},
   "outputs": [
    {
     "name": "stdout",
     "output_type": "stream",
     "text": [
      "a[0, :]=array([10, 20])\n",
      "a[0::2, :]=array([[10, 20],\n",
      "       [50, 60]])\n",
      "a[:2, 1:]=array([[20],\n",
      "       [40]])\n"
     ]
    }
   ],
   "source": [
    "a = np.arange(1, 7).reshape((3, 2))*10\n",
    "# slicing is used to extract chunk from an array\n",
    "\n",
    "print(f\"{a[0, :]=}\")\n",
    "print(f\"{a[0::2, :]=}\")\n",
    "print(f\"{a[:2, 1:]=}\")\n"
   ]
  },
  {
   "cell_type": "code",
   "execution_count": 41,
   "metadata": {},
   "outputs": [
    {
     "name": "stdout",
     "output_type": "stream",
     "text": [
      "a[0:2, :]=array([[1, 2, 3, 4],\n",
      "       [5, 6, 7, 8]])\n",
      "a[::3, :]=array([[ 1,  2,  3,  4],\n",
      "       [13, 14, 15, 16]])\n",
      "a[:, 0:2]=array([[ 1,  2],\n",
      "       [ 5,  6],\n",
      "       [ 9, 10],\n",
      "       [13, 14]])\n",
      "a[:, ::2]=array([[ 1,  3],\n",
      "       [ 5,  7],\n",
      "       [ 9, 11],\n",
      "       [13, 15]])\n",
      "a[1:3, 1:3]=array([[ 6,  7],\n",
      "       [10, 11]])\n",
      "a[::3, ::3]=array([[ 1,  4],\n",
      "       [13, 16]])\n"
     ]
    }
   ],
   "source": [
    "a = np.arange(1, 17).reshape((4, 4))\n",
    "# slicing is used to extract chunk from an array\n",
    "print(f\"{a[0:2, :]=}\")\n",
    "print(f\"{a[::3, :]=}\")\n",
    "print(f\"{a[:, 0:2]=}\")\n",
    "print(f\"{a[:, ::2]=}\")\n",
    "print(f\"{a[1:3, 1:3]=}\")\n",
    "print(f\"{a[::3, ::3]=}\")"
   ]
  },
  {
   "attachments": {},
   "cell_type": "markdown",
   "metadata": {},
   "source": [
    "# Slice operator on 3d-arrays\n",
    "- syntax:\n",
    "    -   a[i_start:i_stop:i_step, j_start:j_stop:j_step, k_start:k_stop:k_step]"
   ]
  },
  {
   "cell_type": "code",
   "execution_count": 52,
   "metadata": {},
   "outputs": [
    {
     "name": "stdout",
     "output_type": "stream",
     "text": [
      "[[[ 1]\n",
      "  [ 5]\n",
      "  [ 9]]\n",
      "\n",
      " [[13]\n",
      "  [17]\n",
      "  [21]]]\n",
      "[[ 1  2  3  4]\n",
      " [13 14 15 16]]\n",
      "[[[ 1  2  3  4]\n",
      "  [ 9 10 11 12]]\n",
      "\n",
      " [[13 14 15 16]\n",
      "  [21 22 23 24]]]\n",
      "[[[ 2  3]\n",
      "  [ 6  7]]\n",
      "\n",
      " [[14 15]\n",
      "  [18 19]]]\n",
      "[[[ 1  4]\n",
      "  [ 9 12]]\n",
      "\n",
      " [[13 16]\n",
      "  [21 24]]]\n"
     ]
    }
   ],
   "source": [
    "a = np.arange(1, 25).reshape((2, 3, 4))\n",
    "\n",
    "print(f\"{a[:,:,:1]}\")\n",
    "print(f\"{a[:,0,:]}\")\n",
    "print(f\"{a[:,::2,:]}\")\n",
    "print(f\"{a[:,0:2:,1:3]}\")\n",
    "print(f\"{a[:,::2,::3]}\")"
   ]
  },
  {
   "attachments": {},
   "cell_type": "markdown",
   "metadata": {},
   "source": [
    "# To select elements using slice operator, elements has to be in order, but to select elements arbitrary, we need to use advanced indexing.\n",
    "\n",
    "-   By using index, we can access only one elements at a time.\n",
    "-   By using slice operator we can access multiple elements at a time, but all elements has to be in order.\n",
    "-   Now we want to select multiple elements, that are not in order.\n",
    "\n",
    "# Syntax\n",
    "- ### for 1d-array\n",
    "    - array[x] \n",
    "        - x can be a nd-array or list, which represents required indexes\n",
    "        - x can also be True/False, values(True represents keep, false repn not to keep value.)\n",
    "- ### for 2d-array\n",
    "    - array[[indexes_of_rows], [indexes_of_columns]] \n",
    "        - indexes can be a nd-array or list, which represents required indexes\n",
    "        - indexes can also be True/False, values(True represents keep, false repn not to keep value.)\n"
   ]
  },
  {
   "cell_type": "markdown",
   "metadata": {},
   "source": []
  },
  {
   "cell_type": "code",
   "execution_count": 59,
   "metadata": {},
   "outputs": [
    {
     "name": "stdout",
     "output_type": "stream",
     "text": [
      "a=array([ 10,  20,  30,  40,  50,  60,  70,  80,  90, 100])\n",
      "[10 50 80 30]\n",
      "[10 30 50 80]\n"
     ]
    }
   ],
   "source": [
    "a = np.arange(10, 101, 10)\n",
    "print(f\"{a=}\")\n",
    "print(f\"{a[[0, 4, 7, 2]]}\") # this will return items in provided orders, element at index 2 will come after element at index 7.\n",
    "print(f\"{a[[True, False, True, False, True, False, False, True, False, False]]}\")"
   ]
  },
  {
   "cell_type": "code",
   "execution_count": 67,
   "metadata": {},
   "outputs": [
    {
     "name": "stdout",
     "output_type": "stream",
     "text": [
      "a=array([[ 1,  2,  3,  4],\n",
      "       [ 5,  6,  7,  8],\n",
      "       [ 9, 10, 11, 12],\n",
      "       [13, 14, 15, 16]])\n",
      "[ 1  6 11 16]\n",
      "[ 1  5  9 13 14 15 16]\n"
     ]
    }
   ],
   "source": [
    "a = np.arange(1, 17).reshape((4,4))\n",
    "print(f\"{a=}\")\n",
    "print(f\"{a[[0,1,2,3],[0,1, 2,3]]}\") # diagonal\n",
    "print(f\"{a[[0,1,2,3,3,3,3],[0,0,0,0,1,2,3]]}\") # L-Shape"
   ]
  },
  {
   "attachments": {},
   "cell_type": "markdown",
   "metadata": {},
   "source": [
    "# Condition based selection:\n",
    "-   We can select elements based on some condition also\n",
    "-   Syntax:\n",
    "    -   array[boolean_array]\n",
    "        -   Whichever element of boolean_array is True corresponding element will be retained, others will be removed from final result."
   ]
  },
  {
   "cell_type": "code",
   "execution_count": 70,
   "metadata": {},
   "outputs": [
    {
     "name": "stdout",
     "output_type": "stream",
     "text": [
      "a=array([10, 20, 30, 40])\n",
      "[10 30]\n"
     ]
    }
   ],
   "source": [
    "a = np.arange(10, 41, 10)\n",
    "print(f\"{a=}\")\n",
    "bool_arr = [True, False, True, False]\n",
    "print(f\"{a[bool_arr]}\")\n",
    "# but length of boolean_arr must be equal to length of ndarray.\n"
   ]
  },
  {
   "cell_type": "code",
   "execution_count": 85,
   "metadata": {},
   "outputs": [
    {
     "name": "stdout",
     "output_type": "stream",
     "text": [
      "a=array([ 10,  20,  30,  40,  50,  60,  70,  80,  90, 100])\n",
      "[ 50  60  70  80  90 100]\n",
      "[ 10  20  30  40  50  60  70  80  90 100]\n",
      "[]\n",
      "[ 10  20  30  40  50  60  70  80  90 100]\n"
     ]
    }
   ],
   "source": [
    "a = np.arange(10, 101, 10)\n",
    "print(f\"{a=}\")\n",
    "# elements greater than 45\n",
    "print(f\"{a[a>45]}\")\n",
    "# even numbers\n",
    "print(f\"{a[a%2 == 0]}\")\n",
    "# odd numbers\n",
    "print(f\"{a[a%2 != 0]}\")\n",
    "# divisible by 5\n",
    "print(f\"{a[a%5==0]}\")"
   ]
  },
  {
   "cell_type": "code",
   "execution_count": 84,
   "metadata": {},
   "outputs": [
    {
     "name": "stdout",
     "output_type": "stream",
     "text": [
      "a=array([[ 10,  20,  30,  40,  50],\n",
      "       [ 60,  70,  80,  90, 100]])\n",
      "[ 50  60  70  80  90 100]\n",
      "[ 10  20  30  40  50  60  70  80  90 100]\n",
      "[]\n",
      "[ 10  20  30  40  50  60  70  80  90 100]\n"
     ]
    }
   ],
   "source": [
    "a = np.arange(10, 101, 10).reshape((2,5))\n",
    "print(f\"{a=}\")\n",
    "# elements greater than 45\n",
    "print(f\"{a[a>45]}\")\n",
    "# even numbers\n",
    "print(f\"{a[a%2 == 0]}\")\n",
    "# odd numbers\n",
    "print(f\"{a[a%2 != 0]}\")\n",
    "# divisible by 5\n",
    "print(f\"{a[a%5==0]}\")"
   ]
  },
  {
   "cell_type": "code",
   "execution_count": null,
   "metadata": {},
   "outputs": [],
   "source": []
  },
  {
   "cell_type": "code",
   "execution_count": null,
   "metadata": {},
   "outputs": [],
   "source": []
  }
 ],
 "metadata": {
  "kernelspec": {
   "display_name": "Python 3",
   "language": "python",
   "name": "python3"
  },
  "language_info": {
   "codemirror_mode": {
    "name": "ipython",
    "version": 3
   },
   "file_extension": ".py",
   "mimetype": "text/x-python",
   "name": "python",
   "nbconvert_exporter": "python",
   "pygments_lexer": "ipython3",
   "version": "3.9.11"
  },
  "orig_nbformat": 4,
  "vscode": {
   "interpreter": {
    "hash": "949777d72b0d2535278d3dc13498b2535136f6dfe0678499012e853ee9abcab1"
   }
  }
 },
 "nbformat": 4,
 "nbformat_minor": 2
}

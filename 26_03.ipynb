{
 "cells": [
  {
   "attachments": {},
   "cell_type": "markdown",
   "metadata": {},
   "source": [
    "### How to crteate numpy arrays: \n",
    "    - array()\n",
    "    - arange()\n",
    "    - linspace()\n",
    "    - zeroes()\n",
    "    - ones()\n",
    "    - full()\n",
    "    - eye()\n",
    "    - identity()\n",
    "    - empty()\n",
    "    - numpy.random\n",
    "        - randint()\n",
    "        - rand()\n",
    "        - uniform()\n",
    "        - randn()\n",
    "        - normal()\n",
    "        - shuffle()\n",
    "    \n",
    "    etc...\n"
   ]
  },
  {
   "attachments": {},
   "cell_type": "markdown",
   "metadata": {},
   "source": [
    "## 1. array()\n",
    "for the given list or tuple, if we want to create an array, we use array function."
   ]
  },
  {
   "cell_type": "code",
   "execution_count": 1,
   "metadata": {},
   "outputs": [],
   "source": [
    "import numpy as np"
   ]
  },
  {
   "cell_type": "code",
   "execution_count": 2,
   "metadata": {},
   "outputs": [],
   "source": [
    "ls = [1, 2, 3,4, 5]"
   ]
  },
  {
   "cell_type": "code",
   "execution_count": 10,
   "metadata": {},
   "outputs": [
    {
     "name": "stdout",
     "output_type": "stream",
     "text": [
      "[1 2 3 4 5]\n",
      "[1 2 3 4 5]\n",
      "['1' '2' '3' '4' '5']\n",
      "[1 2 3 4 5]\n",
      "[1 2 3 4 5]\n",
      "[1 2 3 4 5]\n",
      "[1 2 3 4 5]\n",
      "[1 2 3 4 5]\n"
     ]
    }
   ],
   "source": [
    "a = np.array(ls)\n",
    "print(np.array(ls))\n",
    "print(np.array(ls, dtype=int))\n",
    "print(np.array(ls, dtype=str))\n",
    "print(np.array(ls, copy=True))\n",
    "print(np.array(ls, order='K'))\n",
    "print(np.array(ls, order='A'))\n",
    "print(np.array(ls, order='C'))\n",
    "print(np.array(ls, order='F'))"
   ]
  },
  {
   "cell_type": "code",
   "execution_count": 15,
   "metadata": {},
   "outputs": [
    {
     "name": "stdout",
     "output_type": "stream",
     "text": [
      "1\n",
      "int32\n",
      "(5,)\n"
     ]
    }
   ],
   "source": [
    "print(a.ndim) # dimension of array\n",
    "print(a.dtype) # data type of elements in array\n",
    "print(a.shape) # shape of array"
   ]
  },
  {
   "cell_type": "code",
   "execution_count": 18,
   "metadata": {},
   "outputs": [],
   "source": [
    "# creating 2d-array\n",
    "mtrix = [[10, 20, 30], [40, 50, 60], [70, 80, 90], [100, 100, 100]]\n",
    "a = np.array(mtrix)"
   ]
  },
  {
   "cell_type": "code",
   "execution_count": 20,
   "metadata": {},
   "outputs": [
    {
     "name": "stdout",
     "output_type": "stream",
     "text": [
      "2\n",
      "int32\n",
      "(4, 3)\n",
      "12\n"
     ]
    }
   ],
   "source": [
    "print(a.ndim) # dimension of array\n",
    "print(a.dtype) # data type of elements in array\n",
    "print(a.shape) # shape of array\n",
    "print(a.size) # total number of elelments in array"
   ]
  },
  {
   "cell_type": "code",
   "execution_count": null,
   "metadata": {},
   "outputs": [],
   "source": []
  }
 ],
 "metadata": {
  "kernelspec": {
   "display_name": "Python 3",
   "language": "python",
   "name": "python3"
  },
  "language_info": {
   "name": "python",
   "version": "3.10.10"
  },
  "orig_nbformat": 4
 },
 "nbformat": 4,
 "nbformat_minor": 2
}

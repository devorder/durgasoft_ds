{
 "cells": [
  {
   "attachments": {},
   "cell_type": "markdown",
   "metadata": {},
   "source": [
    "# ndenumerate\n",
    "-   Main advantage of ndenumerate function is if we want to find coordinates as well elements, we must use this.\n",
    "-   this fucntion returns multi-dimensional array iterator, which contains array indices and its values."
   ]
  },
  {
   "cell_type": "code",
   "execution_count": 7,
   "metadata": {},
   "outputs": [],
   "source": [
    "import  numpy as np"
   ]
  },
  {
   "cell_type": "code",
   "execution_count": 8,
   "metadata": {},
   "outputs": [
    {
     "name": "stdout",
     "output_type": "stream",
     "text": [
      "(0,) => 10\n",
      "(1,) => 20\n",
      "(2,) => 30\n",
      "(3,) => 40\n",
      "(4,) => 50\n",
      "(5,) => 60\n",
      "(6,) => 70\n"
     ]
    }
   ],
   "source": [
    "# 1d-array\n",
    "a = np.arange(10, 71, 10)\n",
    "for pos, el in np.ndenumerate(a):\n",
    "    print(pos, \"=>\", el)"
   ]
  },
  {
   "cell_type": "code",
   "execution_count": 9,
   "metadata": {},
   "outputs": [
    {
     "name": "stdout",
     "output_type": "stream",
     "text": [
      "(0, 0, 0) => 10\n",
      "(0, 0, 1) => 20\n",
      "(0, 1, 0) => 30\n",
      "(0, 1, 1) => 40\n",
      "(1, 0, 0) => 50\n",
      "(1, 0, 1) => 60\n",
      "(1, 1, 0) => 70\n",
      "(1, 1, 1) => 80\n"
     ]
    }
   ],
   "source": [
    "# 1d-array\n",
    "a = np.arange(10, 81, 10).reshape((2, 2, 2))\n",
    "for pos, el in np.ndenumerate(a):\n",
    "    print(pos, \"=>\", el)"
   ]
  },
  {
   "attachments": {},
   "cell_type": "markdown",
   "metadata": {},
   "source": [
    "# Arithmetic Operators\n",
    "-   +, -, *, /, //, %, **"
   ]
  },
  {
   "cell_type": "code",
   "execution_count": 16,
   "metadata": {},
   "outputs": [
    {
     "name": "stdout",
     "output_type": "stream",
     "text": [
      "a=array([10, 20, 30, 40, 50, 60, 70])\n",
      "a+2=array([12, 22, 32, 42, 52, 62, 72])\n",
      "a-2=array([ 8, 18, 28, 38, 48, 58, 68])\n",
      "a*2=array([ 20,  40,  60,  80, 100, 120, 140])\n",
      "a/2=array([ 5., 10., 15., 20., 25., 30., 35.])\n",
      "a//2=array([ 5, 10, 15, 20, 25, 30, 35])\n",
      "a**2=array([ 100,  400,  900, 1600, 2500, 3600, 4900])\n"
     ]
    }
   ],
   "source": [
    "# 1d-array\n",
    "a = np.arange(10, 71, 10)\n",
    "print(f\"{a=}\")\n",
    "print(f\"{a+2=}\")\n",
    "print(f\"{a-2=}\")\n",
    "print(f\"{a*2=}\")\n",
    "print(f\"{a/2=}\")\n",
    "print(f\"{a//2=}\")\n",
    "print(f\"{a**2=}\")"
   ]
  },
  {
   "attachments": {},
   "cell_type": "markdown",
   "metadata": {},
   "source": [
    "## to perform arithmetic operations on nd arrays, their shape and size must be same."
   ]
  },
  {
   "cell_type": "code",
   "execution_count": 18,
   "metadata": {},
   "outputs": [
    {
     "name": "stdout",
     "output_type": "stream",
     "text": [
      "[11 22 33 44]\n",
      "[ 9 18 27 36]\n",
      "[ 10  40  90 160]\n",
      "[10. 10. 10. 10.]\n",
      "[     10     400   27000 2560000]\n"
     ]
    }
   ],
   "source": [
    "a = np.array((10, 20, 30, 40))\n",
    "b = np.array((1, 2, 3, 4))\n",
    "print(f\"{a+b}\")\n",
    "print(f\"{a-b}\")\n",
    "print(f\"{a*b}\")\n",
    "print(f\"{a/b}\")\n",
    "print(f\"{a**b}\")"
   ]
  },
  {
   "cell_type": "code",
   "execution_count": 19,
   "metadata": {},
   "outputs": [
    {
     "ename": "ValueError",
     "evalue": "operands could not be broadcast together with shapes (4,) (5,) ",
     "output_type": "error",
     "traceback": [
      "\u001b[0;31m---------------------------------------------------------------------------\u001b[0m",
      "\u001b[0;31mValueError\u001b[0m                                Traceback (most recent call last)",
      "Cell \u001b[0;32mIn[19], line 3\u001b[0m\n\u001b[1;32m      1\u001b[0m a \u001b[39m=\u001b[39m np\u001b[39m.\u001b[39marray((\u001b[39m10\u001b[39m, \u001b[39m20\u001b[39m, \u001b[39m30\u001b[39m, \u001b[39m40\u001b[39m))\n\u001b[1;32m      2\u001b[0m b \u001b[39m=\u001b[39m np\u001b[39m.\u001b[39marray((\u001b[39m1\u001b[39m, \u001b[39m2\u001b[39m, \u001b[39m3\u001b[39m, \u001b[39m4\u001b[39m, \u001b[39m5\u001b[39m))\n\u001b[0;32m----> 3\u001b[0m \u001b[39mprint\u001b[39m(\u001b[39mf\u001b[39m\u001b[39m\"\u001b[39m\u001b[39m{\u001b[39;00ma\u001b[39m+\u001b[39;49mb\u001b[39m}\u001b[39;00m\u001b[39m\"\u001b[39m)\n\u001b[1;32m      4\u001b[0m \u001b[39mprint\u001b[39m(\u001b[39mf\u001b[39m\u001b[39m\"\u001b[39m\u001b[39m{\u001b[39;00ma\u001b[39m-\u001b[39mb\u001b[39m}\u001b[39;00m\u001b[39m\"\u001b[39m)\n\u001b[1;32m      5\u001b[0m \u001b[39mprint\u001b[39m(\u001b[39mf\u001b[39m\u001b[39m\"\u001b[39m\u001b[39m{\u001b[39;00ma\u001b[39m*\u001b[39mb\u001b[39m}\u001b[39;00m\u001b[39m\"\u001b[39m)\n",
      "\u001b[0;31mValueError\u001b[0m: operands could not be broadcast together with shapes (4,) (5,) "
     ]
    }
   ],
   "source": [
    "a = np.array((10, 20, 30, 40))\n",
    "b = np.array((1, 2, 3, 4, 5))\n",
    "print(f\"{a+b}\")\n",
    "print(f\"{a-b}\")\n",
    "print(f\"{a*b}\")\n",
    "print(f\"{a/b}\")\n",
    "print(f\"{a**b}\")"
   ]
  },
  {
   "cell_type": "code",
   "execution_count": 20,
   "metadata": {},
   "outputs": [
    {
     "name": "stdout",
     "output_type": "stream",
     "text": [
      "[[11 22 33]\n",
      " [44 55 66]]\n",
      "[[ 9 18 27]\n",
      " [36 45 54]]\n",
      "[[ 10  40  90]\n",
      " [160 250 360]]\n",
      "[[10. 10. 10.]\n",
      " [10. 10. 10.]]\n",
      "[[         10         400       27000]\n",
      " [    2560000   312500000 46656000000]]\n"
     ]
    }
   ],
   "source": [
    "a = np.array(((10, 20, 30), (40, 50, 60)))\n",
    "b = np.array(((1, 2, 3), (4, 5, 6)))\n",
    "print(f\"{a+b}\")\n",
    "print(f\"{a-b}\")\n",
    "print(f\"{a*b}\")\n",
    "print(f\"{a/b}\")\n",
    "print(f\"{a**b}\")"
   ]
  },
  {
   "cell_type": "code",
   "execution_count": 22,
   "metadata": {},
   "outputs": [
    {
     "name": "stdout",
     "output_type": "stream",
     "text": [
      "a+b=array([[[ 11,  22,  33],\n",
      "        [ 44,  55,  66]],\n",
      "\n",
      "       [[ 77,  88,  99],\n",
      "        [110, 121, 132]]])\n",
      "a-b=array([[[  9,  18,  27],\n",
      "        [ 36,  45,  54]],\n",
      "\n",
      "       [[ 63,  72,  81],\n",
      "        [ 90,  99, 108]]])\n",
      "a*b=array([[[  10,   40,   90],\n",
      "        [ 160,  250,  360]],\n",
      "\n",
      "       [[ 490,  640,  810],\n",
      "        [1000, 1210, 1440]]])\n",
      "a/b=array([[[10., 10., 10.],\n",
      "        [10., 10., 10.]],\n",
      "\n",
      "       [[10., 10., 10.],\n",
      "        [10., 10., 10.]]])\n",
      "a**b=array([[[                  10,                  400,\n",
      "                        27000],\n",
      "        [             2560000,            312500000,\n",
      "                  46656000000]],\n",
      "\n",
      "       [[       8235430000000,     1677721600000000,\n",
      "           387420489000000000],\n",
      "        [ 7766279631452241920, -5946020928676349952,\n",
      "         -4172562995806732288]]])\n"
     ]
    }
   ],
   "source": [
    "a = np.array((((10, 20, 30), (40, 50, 60)), ((70, 80, 90), (100, 110, 120))))\n",
    "b = np.array((((1, 2, 3), (4, 5, 6)), ((7, 8, 9), (10, 11, 12))))\n",
    "print(f\"{a+b=}\")\n",
    "print(f\"{a-b=}\")\n",
    "print(f\"{a*b=}\")\n",
    "print(f\"{a/b=}\")\n",
    "print(f\"{a**b=}\")"
   ]
  }
 ],
 "metadata": {
  "kernelspec": {
   "display_name": "Python 3",
   "language": "python",
   "name": "python3"
  },
  "language_info": {
   "codemirror_mode": {
    "name": "ipython",
    "version": 3
   },
   "file_extension": ".py",
   "mimetype": "text/x-python",
   "name": "python",
   "nbconvert_exporter": "python",
   "pygments_lexer": "ipython3",
   "version": "3.9.11"
  },
  "orig_nbformat": 4
 },
 "nbformat": 4,
 "nbformat_minor": 2
}

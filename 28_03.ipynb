{
 "cells": [
  {
   "attachments": {},
   "cell_type": "markdown",
   "metadata": {},
   "source": [
    "# eye\n",
    "    - creates a identity matrix.\n",
    "    - returns a 2d-array with ones on the diagonal and zeroes elsewhere.\n",
    "    - args \n",
    "        - n => defines number of rows\n",
    "        - m => defines number of columns\n",
    "        - k => defines position of diagonal(...-3,-2,-1,0,1,2,3....), default is 0."
   ]
  },
  {
   "cell_type": "code",
   "execution_count": 6,
   "metadata": {},
   "outputs": [],
   "source": [
    "import numpy as np"
   ]
  },
  {
   "cell_type": "code",
   "execution_count": null,
   "metadata": {},
   "outputs": [],
   "source": [
    "a = np.eye(2, dtype=int)\n",
    "print(f\"{a=}\")\n",
    "print(f\"{a.shape=}\")\n",
    "print(f\"{a.ndim=}\")\n",
    "print(f\"{a.size=}\")\n",
    "print(\"*\"*50)\n",
    "a = np.eye(3, 3, dtype=int)\n",
    "print(f\"{a=}\")\n",
    "print(f\"{a.shape=}\")\n",
    "print(f\"{a.ndim=}\")\n",
    "print(f\"{a.size=}\")\n",
    "print(\"*\"*50)\n",
    "a = np.eye(3, 3, 1, dtype=int)\n",
    "print(f\"{a=}\")\n",
    "print(f\"{a.shape=}\")\n",
    "print(f\"{a.ndim=}\")\n",
    "print(f\"{a.size=}\")\n",
    "print(\"*\"*50)\n",
    "a = np.eye(3, 3, 2, dtype=int)\n",
    "print(f\"{a=}\")\n",
    "print(f\"{a.shape=}\")\n",
    "print(f\"{a.ndim=}\")\n",
    "print(f\"{a.size=}\")\n",
    "print(\"*\"*50)\n",
    "a = np.eye(3, 3, 3, dtype=int)\n",
    "print(f\"{a=}\")\n",
    "print(f\"{a.shape=}\")\n",
    "print(f\"{a.ndim=}\")\n",
    "print(f\"{a.size=}\")\n",
    "print(\"*\"*50)\n",
    "a = np.eye(3, 3, -1, dtype=int)\n",
    "print(f\"{a=}\")\n",
    "print(f\"{a.shape=}\")\n",
    "print(f\"{a.ndim=}\")\n",
    "print(f\"{a.size=}\")\n",
    "print(\"*\"*50)\n",
    "a = np.eye(3, 3, -2, dtype=int)\n",
    "print(f\"{a=}\")\n",
    "print(f\"{a.shape=}\")\n",
    "print(f\"{a.ndim=}\")\n",
    "print(f\"{a.size=}\")\n",
    "print(\"*\"*50)"
   ]
  },
  {
   "attachments": {},
   "cell_type": "markdown",
   "metadata": {},
   "source": [
    "# Which of the following is true about returned array of eye() function.\n",
    "    - it is always 2d-array.\n",
    "    - number of rows and columns need not to be same.\n",
    "    - by default main diagonal contains ones, but we can customize, the diagonal, which has to contain ones.\n",
    "    - All of the above. \n",
    "D"
   ]
  },
  {
   "attachments": {},
   "cell_type": "markdown",
   "metadata": {},
   "source": [
    "# Which of the following is true about returned array of eye() function.\n",
    "    - It can be any dimentional array.\n",
    "    - number of rows and columns must be same.\n",
    "    - Only main diagonal containes ones.\n",
    "    - None of these.\n",
    "D\n"
   ]
  },
  {
   "attachments": {},
   "cell_type": "markdown",
   "metadata": {},
   "source": [
    "# identity\n",
    "    - It is exactly same as eye function, except that:\n",
    "        -   It is always a square matrix.\n",
    "        -   Only main diagonal contains ones.\n",
    "        -   There is no (m,n,k) parametes to define, row/column/diagonal number. We need to pass only n : int which defines number of rows (and columns) in n x n output.\n",
    "\n",
    "#### eye is more generalized version of identity."
   ]
  },
  {
   "cell_type": "code",
   "execution_count": 13,
   "metadata": {},
   "outputs": [
    {
     "name": "stdout",
     "output_type": "stream",
     "text": [
      "a=array([[1, 0],\n",
      "       [0, 1]])\n",
      "a.shape=(2, 2)\n",
      "a.ndim=2\n",
      "a.size=4\n",
      "**************************************************\n",
      "a=array([[1, 0, 0, 0],\n",
      "       [0, 1, 0, 0],\n",
      "       [0, 0, 1, 0],\n",
      "       [0, 0, 0, 1]])\n",
      "a.shape=(4, 4)\n",
      "a.ndim=2\n",
      "a.size=16\n",
      "**************************************************\n"
     ]
    }
   ],
   "source": [
    "a = np.identity(2, dtype=int)\n",
    "print(f\"{a=}\")\n",
    "print(f\"{a.shape=}\")\n",
    "print(f\"{a.ndim=}\")\n",
    "print(f\"{a.size=}\")\n",
    "print(\"*\"*50)\n",
    "a = np.identity(4, dtype=int)\n",
    "print(f\"{a=}\")\n",
    "print(f\"{a.shape=}\")\n",
    "print(f\"{a.ndim=}\")\n",
    "print(f\"{a.size=}\")\n",
    "print(\"*\"*50)"
   ]
  },
  {
   "attachments": {},
   "cell_type": "markdown",
   "metadata": {},
   "source": [
    "# Which of the following is true about returned array of identity() function.\n",
    "    - it is always 2d-array.\n",
    "    - number of rows and columns need not to be same.\n",
    "    - by default main diagonal contains ones, but we can customize, the diagonal, which has to contain ones.\n",
    "    - All of the above. \n",
    "A"
   ]
  },
  {
   "attachments": {},
   "cell_type": "markdown",
   "metadata": {},
   "source": [
    "# Which of the following is true about returned array of eye() function.\n",
    "    - It can be any dimentional array.\n",
    "    - number of rows and columns must be same.\n",
    "    - Only main diagonal containes ones.\n",
    "    - None of these.\n",
    "B, C"
   ]
  },
  {
   "attachments": {},
   "cell_type": "markdown",
   "metadata": {},
   "source": [
    "# empty\n",
    "    - returns a new array of given shape and size, without initilizing entries.\n",
    "    - Values present in array, will be garbage values.\n"
   ]
  },
  {
   "cell_type": "code",
   "execution_count": 14,
   "metadata": {},
   "outputs": [
    {
     "name": "stdout",
     "output_type": "stream",
     "text": [
      "a=array([[  786192576,         295,           0],\n",
      "       [          0,           1, -2147483648]])\n",
      "a.shape=(2, 3)\n",
      "a.ndim=2\n",
      "a.size=6\n",
      "**************************************************\n"
     ]
    }
   ],
   "source": [
    "a = np.empty((2, 3), dtype=int, )\n",
    "print(f\"{a=}\")\n",
    "print(f\"{a.shape=}\")\n",
    "print(f\"{a.ndim=}\")\n",
    "print(f\"{a.size=}\")\n",
    "print(\"*\"*50)"
   ]
  },
  {
   "attachments": {},
   "cell_type": "markdown",
   "metadata": {},
   "source": [
    "# Zeroes vs empty\n",
    "    - If we require an array only with zeroes then we should go for zeroes.\n",
    "    - If we do not worry about intializing default values go for empty.\n",
    "    - Performance by empty is far better then zeroes."
   ]
  },
  {
   "attachments": {},
   "cell_type": "markdown",
   "metadata": {},
   "source": [
    "# array creation by using np.random library\n",
    "    -   np.random contains several functions to create array from:\n",
    "        -   randint()\n",
    "        -   rand()\n",
    "        -   uniform()\n",
    "        -   randn()\n",
    "        -   normal()\n",
    "        -   shuffle()\n",
    "        etc."
   ]
  },
  {
   "cell_type": "code",
   "execution_count": null,
   "metadata": {},
   "outputs": [],
   "source": []
  }
 ],
 "metadata": {
  "kernelspec": {
   "display_name": "Python 3",
   "language": "python",
   "name": "python3"
  },
  "language_info": {
   "codemirror_mode": {
    "name": "ipython",
    "version": 3
   },
   "file_extension": ".py",
   "mimetype": "text/x-python",
   "name": "python",
   "nbconvert_exporter": "python",
   "pygments_lexer": "ipython3",
   "version": "3.10.10"
  },
  "orig_nbformat": 4
 },
 "nbformat": 4,
 "nbformat_minor": 2
}

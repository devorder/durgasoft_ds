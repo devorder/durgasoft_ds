{
 "cells": [
  {
   "attachments": {},
   "cell_type": "markdown",
   "metadata": {},
   "source": [
    "# PYTHON FOR DATA SCIENCE AND MACHINE LEARNING"
   ]
  },
  {
   "attachments": {},
   "cell_type": "markdown",
   "metadata": {},
   "source": [
    "## NUMPY"
   ]
  },
  {
   "attachments": {},
   "cell_type": "markdown",
   "metadata": {},
   "source": [
    "- What is numpy => It means Numerical Python Library.\n",
    "- Purpose => To perform complex mathemetical operations like (Integration/Calculus/linear algebra etc..).\n",
    "- ** NUMPY IS BACKBONE OF OTHER DATA SCIENCE LIBRARIES LIKE (PANDAS, SCIPY etc)"
   ]
  },
  {
   "attachments": {},
   "cell_type": "markdown",
   "metadata": {},
   "source": [
    "- How to install python\n",
    "    - there are two ways we can install numpy: \n",
    "        1. Installing using anaconda\n",
    "        2. Installing using pip : pip install numpy\n",
    "        "
   ]
  },
  {
   "attachments": {},
   "cell_type": "markdown",
   "metadata": {},
   "source": [
    "- similarity between python Lists and numpy's nd array\n",
    "    - Both Can be used to store data.\n",
    "    - Order is preserved in both.\n",
    "    - Both are mutable.\n",
    "    \n",
    "\n",
    "- Differences between python Lists and numpy's nd array\n",
    "    - Lists is built into python, but ndarrays are a type of numpy library.\n",
    "    - list are dynamic type(We can have multiple type values in list), there can be only one type of data in ndarray.\n",
    "    - On lists we can not perform vector operations, ndarrays are made to perform vector operations.\n",
    "    - Lists are heavey in weight(means they contain more storage), nd arrays contains less storage."
   ]
  },
  {
   "cell_type": "code",
   "execution_count": 2,
   "metadata": {},
   "outputs": [],
   "source": [
    "# ! pip install numpy\n",
    "import numpy"
   ]
  },
  {
   "cell_type": "code",
   "execution_count": null,
   "metadata": {},
   "outputs": [],
   "source": []
  }
 ],
 "metadata": {
  "kernelspec": {
   "display_name": "Python 3",
   "language": "python",
   "name": "python3"
  },
  "language_info": {
   "codemirror_mode": {
    "name": "ipython",
    "version": 3
   },
   "file_extension": ".py",
   "mimetype": "text/x-python",
   "name": "python",
   "nbconvert_exporter": "python",
   "pygments_lexer": "ipython3",
   "version": "3.10.10"
  },
  "orig_nbformat": 4
 },
 "nbformat": 4,
 "nbformat_minor": 2
}

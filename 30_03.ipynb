{
 "cells": [
  {
   "attachments": {},
   "cell_type": "markdown",
   "metadata": {},
   "source": [
    "# Shuffle:\n",
    "    -   Creates an array from existing array, but shuffling values.\n",
    "    -   This function only shuffles the array along the first axis of a multi-dimensional array. The order of sub-arrays is changed but their contents remains the same."
   ]
  },
  {
   "cell_type": "code",
   "execution_count": 1,
   "metadata": {},
   "outputs": [],
   "source": [
    "import numpy as np"
   ]
  },
  {
   "cell_type": "code",
   "execution_count": null,
   "metadata": {},
   "outputs": [],
   "source": [
    "print(\"For 1d-array\")\n",
    "a = np.arange(9)\n",
    "print(f'{a=}')\n",
    "np.random.shuffle(a)\n",
    "print(f'{a=}')\n",
    "print('*'*50)\n",
    "print(\"For 2d-array\")\n",
    "# order of rows will be changed\n",
    "a = np.arange(9).reshape((3, 3))\n",
    "print(f'{a=}')\n",
    "np.random.shuffle(a)\n",
    "print(f'{a=}')\n",
    "print('*'*50)\n",
    "print(\"For 3d-array\")\n",
    "# order of 2d-arrays will be changed, but not its internal contents.\n",
    "a = np.arange(36).reshape((4, 3, 3))\n",
    "print(f'{a=}')\n",
    "np.random.shuffle(a)\n",
    "print(f'{a=}')\n",
    "print('*'*50)"
   ]
  },
  {
   "attachments": {},
   "cell_type": "markdown",
   "metadata": {},
   "source": [
    "# Array Atrributes:\n",
    "    -   a.ndim -> returns dimensions of array.\n",
    "    -   a.shape -> shape of array.\n",
    "    -   a.size -> number of elements in array.\n",
    "    -   a.dtype ->  data type of array.\n",
    "    -   a.itemsize -> size of each element."
   ]
  },
  {
   "cell_type": "code",
   "execution_count": 19,
   "metadata": {},
   "outputs": [
    {
     "name": "stdout",
     "output_type": "stream",
     "text": [
      "a=array([0, 1, 2, 3, 4])\n",
      "a.ndim=1\n",
      "a.shape=(5,)\n",
      "a.size=5\n",
      "a.dtype=dtype('int32')\n",
      "a.itemsize=4\n",
      "**************************************************\n",
      "a=array([[0, 1, 2],\n",
      "       [3, 4, 5],\n",
      "       [6, 7, 8]], dtype=int8)\n",
      "a.ndim=2\n",
      "a.shape=(3, 3)\n",
      "a.size=9\n",
      "a.dtype=dtype('int8')\n",
      "a.itemsize=1\n",
      "**************************************************\n"
     ]
    }
   ],
   "source": [
    "a = np.arange(5)\n",
    "print(f'{a=}')\n",
    "print(f'{a.ndim=}')\n",
    "print(f'{a.shape=}')\n",
    "print(f'{a.size=}')\n",
    "print(f'{a.dtype=}')\n",
    "print(f'{a.itemsize=}')\n",
    "print('*'*50)\n",
    "a = np.arange(9, dtype='int8').reshape((3, 3))\n",
    "print(f'{a=}')\n",
    "print(f'{a.ndim=}')\n",
    "print(f'{a.shape=}')\n",
    "print(f'{a.size=}')\n",
    "print(f'{a.dtype=}')\n",
    "print(f'{a.itemsize=}')\n",
    "print('*'*50)"
   ]
  },
  {
   "attachments": {},
   "cell_type": "markdown",
   "metadata": {},
   "source": []
  }
 ],
 "metadata": {
  "kernelspec": {
   "display_name": "Python 3",
   "language": "python",
   "name": "python3"
  },
  "language_info": {
   "codemirror_mode": {
    "name": "ipython",
    "version": 3
   },
   "file_extension": ".py",
   "mimetype": "text/x-python",
   "name": "python",
   "nbconvert_exporter": "python",
   "pygments_lexer": "ipython3",
   "version": "3.10.10"
  },
  "orig_nbformat": 4
 },
 "nbformat": 4,
 "nbformat_minor": 2
}

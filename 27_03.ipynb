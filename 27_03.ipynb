{
 "cells": [
  {
   "attachments": {},
   "cell_type": "markdown",
   "metadata": {},
   "source": [
    "# Creation of ndarray using arange function:"
   ]
  },
  {
   "cell_type": "code",
   "execution_count": 2,
   "metadata": {},
   "outputs": [
    {
     "data": {
      "text/plain": [
       "[0, 1, 2, 3, 4, 5, 6, 7, 8, 9]"
      ]
     },
     "execution_count": 2,
     "metadata": {},
     "output_type": "execute_result"
    }
   ],
   "source": [
    "# in python we have range function \n",
    "[i for i in range(0, 10)]"
   ]
  },
  {
   "attachments": {},
   "cell_type": "markdown",
   "metadata": {},
   "source": [
    "similarly we have arange() function in numpy.\n",
    "- i want to create a ndarray from a range of values."
   ]
  },
  {
   "cell_type": "code",
   "execution_count": 1,
   "metadata": {},
   "outputs": [],
   "source": [
    "import numpy as np"
   ]
  },
  {
   "cell_type": "code",
   "execution_count": 9,
   "metadata": {},
   "outputs": [
    {
     "name": "stdout",
     "output_type": "stream",
     "text": [
      "a.ndim=1\n",
      "a.shape=(10,)\n",
      "a.dtype=dtype('int32')\n"
     ]
    }
   ],
   "source": [
    "a = np.arange(10)\n",
    "print(f'{a.ndim=}')\n",
    "print(f'{a.shape=}')\n",
    "print(f'{a.dtype=}')"
   ]
  },
  {
   "cell_type": "code",
   "execution_count": 11,
   "metadata": {},
   "outputs": [
    {
     "name": "stdout",
     "output_type": "stream",
     "text": [
      "a=array([ 1,  2,  3,  4,  5,  6,  7,  8,  9, 10])\n",
      "a.ndim=1\n",
      "a.shape=(10,)\n",
      "a.dtype=dtype('int32')\n"
     ]
    }
   ],
   "source": [
    "a = np.arange(1,11)\n",
    "print(f'{a=}')\n",
    "print(f'{a.ndim=}')\n",
    "print(f'{a.shape=}')\n",
    "print(f'{a.dtype=}')"
   ]
  },
  {
   "cell_type": "code",
   "execution_count": 12,
   "metadata": {},
   "outputs": [
    {
     "name": "stdout",
     "output_type": "stream",
     "text": [
      "a=array([1, 3, 5, 7, 9])\n",
      "a.ndim=1\n",
      "a.shape=(5,)\n",
      "a.dtype=dtype('int32')\n"
     ]
    }
   ],
   "source": [
    "a = np.arange(1, 11, 2)\n",
    "print(f'{a=}')\n",
    "print(f'{a.ndim=}')\n",
    "print(f'{a.shape=}')\n",
    "print(f'{a.dtype=}')"
   ]
  },
  {
   "cell_type": "code",
   "execution_count": 14,
   "metadata": {},
   "outputs": [
    {
     "name": "stdout",
     "output_type": "stream",
     "text": [
      "a=array([ 1.,  4.,  7., 10.])\n",
      "a.ndim=1\n",
      "a.shape=(4,)\n",
      "a.dtype=dtype('float64')\n"
     ]
    }
   ],
   "source": [
    "a = np.arange(1,11, 3, dtype=float)\n",
    "print(f'{a=}')\n",
    "print(f'{a.ndim=}')\n",
    "print(f'{a.shape=}')\n",
    "print(f'{a.dtype=}')"
   ]
  },
  {
   "attachments": {},
   "cell_type": "markdown",
   "metadata": {},
   "source": [
    "# arange only creates a 1d-array, however we can change the shape of array."
   ]
  },
  {
   "cell_type": "code",
   "execution_count": 17,
   "metadata": {},
   "outputs": [],
   "source": [
    "# a = np.arange(1, 11, 3, dtype=str)\n",
    "# print(f'{a=}')\n",
    "# print(f'{a.ndim=}')\n",
    "# print(f'{a.shape=}')\n",
    "# print(f'{a.dtype=}')"
   ]
  },
  {
   "attachments": {},
   "cell_type": "markdown",
   "metadata": {},
   "source": [
    "# Linspace function :\n",
    "<code>linspace</code> function, creates an nd-array from linearly spaced values lies within a specified interval. "
   ]
  },
  {
   "cell_type": "code",
   "execution_count": 21,
   "metadata": {},
   "outputs": [
    {
     "name": "stdout",
     "output_type": "stream",
     "text": [
      "a=array([ 1.        ,  1.18367347,  1.36734694,  1.55102041,  1.73469388,\n",
      "        1.91836735,  2.10204082,  2.28571429,  2.46938776,  2.65306122,\n",
      "        2.83673469,  3.02040816,  3.20408163,  3.3877551 ,  3.57142857,\n",
      "        3.75510204,  3.93877551,  4.12244898,  4.30612245,  4.48979592,\n",
      "        4.67346939,  4.85714286,  5.04081633,  5.2244898 ,  5.40816327,\n",
      "        5.59183673,  5.7755102 ,  5.95918367,  6.14285714,  6.32653061,\n",
      "        6.51020408,  6.69387755,  6.87755102,  7.06122449,  7.24489796,\n",
      "        7.42857143,  7.6122449 ,  7.79591837,  7.97959184,  8.16326531,\n",
      "        8.34693878,  8.53061224,  8.71428571,  8.89795918,  9.08163265,\n",
      "        9.26530612,  9.44897959,  9.63265306,  9.81632653, 10.        ])\n",
      "a.ndim=1\n",
      "a.shape=(50,)\n",
      "a.dtype=dtype('float64')\n"
     ]
    }
   ],
   "source": [
    "a = np.linspace(1, 10)\n",
    "print(f'{a=}')\n",
    "print(f'{a.ndim=}')\n",
    "print(f'{a.shape=}')\n",
    "print(f'{a.dtype=}')"
   ]
  },
  {
   "cell_type": "code",
   "execution_count": 24,
   "metadata": {},
   "outputs": [
    {
     "name": "stdout",
     "output_type": "stream",
     "text": [
      "a=array([1.])\n",
      "a.ndim=1\n",
      "a.shape=(1,)\n",
      "a.dtype=dtype('float64')\n",
      "a.size=1\n",
      "--------------------------------------------------\n",
      "a=array([ 1., 10.])\n",
      "a.ndim=1\n",
      "a.shape=(2,)\n",
      "a.dtype=dtype('float64')\n",
      "a.size=2\n",
      "--------------------------------------------------\n",
      "a=array([ 1.,  4.,  7., 10.])\n",
      "a.ndim=1\n",
      "a.shape=(4,)\n",
      "a.dtype=dtype('float64')\n",
      "a.size=4\n",
      "--------------------------------------------------\n",
      "a=array([ 1. ,  2.5,  4. ,  5.5,  7. ,  8.5, 10. ])\n",
      "a.ndim=1\n",
      "a.shape=(7,)\n",
      "a.dtype=dtype('float64')\n",
      "a.size=7\n",
      "--------------------------------------------------\n"
     ]
    }
   ],
   "source": [
    "a = np.linspace(1, 10, 1)\n",
    "print(f'{a=}')\n",
    "print(f'{a.ndim=}')\n",
    "print(f'{a.shape=}')\n",
    "print(f'{a.dtype=}')\n",
    "print(f'{a.size=}')\n",
    "print(\"-\"*50)\n",
    "a = np.linspace(1, 10, 2)\n",
    "print(f'{a=}')\n",
    "print(f'{a.ndim=}')\n",
    "print(f'{a.shape=}')\n",
    "print(f'{a.dtype=}')\n",
    "print(f'{a.size=}')\n",
    "print(\"-\"*50)\n",
    "a = np.linspace(1, 10, 4)\n",
    "print(f'{a=}')\n",
    "print(f'{a.ndim=}')\n",
    "print(f'{a.shape=}')\n",
    "print(f'{a.dtype=}')\n",
    "print(f'{a.size=}')\n",
    "print(\"-\"*50)\n",
    "a = np.linspace(1, 10, 7)\n",
    "print(f'{a=}')\n",
    "print(f'{a.ndim=}')\n",
    "print(f'{a.shape=}')\n",
    "print(f'{a.dtype=}')\n",
    "print(f'{a.size=}')\n",
    "print(\"-\"*50)"
   ]
  },
  {
   "cell_type": "code",
   "execution_count": 29,
   "metadata": {},
   "outputs": [
    {
     "name": "stdout",
     "output_type": "stream",
     "text": [
      "a=array([  1,  12,  23,  34,  45,  56,  67,  78,  89, 100])\n",
      "a.ndim=1\n",
      "a.shape=(10,)\n",
      "a.dtype=dtype('int32')\n",
      "a.size=10\n",
      "--------------------------------------------------\n",
      "a=array([  1,   4,   7,  10,  13,  16,  19,  22,  25,  28,  31,  35,  38,\n",
      "        41,  44,  47,  50,  53,  56,  59,  62,  65,  69,  72,  75,  78,\n",
      "        81,  84,  87,  90,  93,  96, 100])\n",
      "a.ndim=1\n",
      "a.shape=(33,)\n",
      "a.dtype=dtype('int32')\n",
      "a.size=33\n",
      "--------------------------------------------------\n",
      "a=array(['1.0', '4.09375', '7.1875', '10.28125', '13.375', '16.46875',\n",
      "       '19.5625', '22.65625', '25.75', '28.84375', '31.9375', '35.03125',\n",
      "       '38.125', '41.21875', '44.3125', '47.40625', '50.5', '53.59375',\n",
      "       '56.6875', '59.78125', '62.875', '65.96875', '69.0625', '72.15625',\n",
      "       '75.25', '78.34375', '81.4375', '84.53125', '87.625', '90.71875',\n",
      "       '93.8125', '96.90625', '100.0'], dtype='<U32')\n",
      "a.ndim=1\n",
      "a.shape=(33,)\n",
      "a.dtype=dtype('<U32')\n",
      "a.size=33\n"
     ]
    }
   ],
   "source": [
    "a = np.linspace(1, 100, 10, dtype=int)\n",
    "print(f'{a=}')\n",
    "print(f'{a.ndim=}')\n",
    "print(f'{a.shape=}')\n",
    "print(f'{a.dtype=}')\n",
    "print(f'{a.size=}')\n",
    "print(\"-\"*50)\n",
    "a = np.linspace(1, 100, 33, dtype=int)\n",
    "print(f'{a=}')\n",
    "print(f'{a.ndim=}')\n",
    "print(f'{a.shape=}')\n",
    "print(f'{a.dtype=}')\n",
    "print(f'{a.size=}')\n",
    "print(\"-\"*50)\n",
    "a = np.linspace(1, 100, 33, dtype=str)\n",
    "print(f'{a=}')\n",
    "print(f'{a.ndim=}')\n",
    "print(f'{a.shape=}')\n",
    "print(f'{a.dtype=}')\n",
    "print(f'{a.size=}')"
   ]
  },
  {
   "attachments": {},
   "cell_type": "markdown",
   "metadata": {},
   "source": [
    "# arange vs. linspace\n",
    "        - in arange elements will be considered in the given range based on the step value.\n",
    "        - in linspace number of values will be considered in the given range. \n"
   ]
  },
  {
   "attachments": {},
   "cell_type": "markdown",
   "metadata": {},
   "source": [
    "# zeroes:\n",
    "it gives nd array full of zeroes."
   ]
  },
  {
   "cell_type": "code",
   "execution_count": null,
   "metadata": {},
   "outputs": [],
   "source": [
    "a = np.zeros((2,3))\n",
    "print(f'{a=}')\n",
    "print(f'{a.ndim=}')\n",
    "print(f'{a.shape=}')\n",
    "print(f'{a.dtype=}')\n",
    "print(f'{a.size=}')\n",
    "print('*'*50)\n",
    "a = np.zeros((2, 4, 3))\n",
    "print(f'{a=}')\n",
    "print(f'{a.ndim=}')\n",
    "print(f'{a.shape=}')\n",
    "print(f'{a.dtype=}')\n",
    "print(f'{a.size=}')\n",
    "print('*'*50)\n",
    "a = np.zeros((4,3))\n",
    "print(f'{a=}')\n",
    "print(f'{a.ndim=}')\n",
    "print(f'{a.shape=}')\n",
    "print(f'{a.dtype=}')\n",
    "print(f'{a.size=}')\n",
    "print('*'*50)"
   ]
  },
  {
   "attachments": {},
   "cell_type": "markdown",
   "metadata": {},
   "source": [
    "# ones:\n",
    "it gives nd array full of ones."
   ]
  },
  {
   "cell_type": "code",
   "execution_count": 35,
   "metadata": {},
   "outputs": [
    {
     "name": "stdout",
     "output_type": "stream",
     "text": [
      "a=array([[1., 1., 1.],\n",
      "       [1., 1., 1.]])\n",
      "a.ndim=2\n",
      "a.shape=(2, 3)\n",
      "a.dtype=dtype('float64')\n",
      "a.size=6\n",
      "**************************************************\n",
      "a=array([[[1., 1., 1.],\n",
      "        [1., 1., 1.],\n",
      "        [1., 1., 1.],\n",
      "        [1., 1., 1.]],\n",
      "\n",
      "       [[1., 1., 1.],\n",
      "        [1., 1., 1.],\n",
      "        [1., 1., 1.],\n",
      "        [1., 1., 1.]]])\n",
      "a.ndim=3\n",
      "a.shape=(2, 4, 3)\n",
      "a.dtype=dtype('float64')\n",
      "a.size=24\n",
      "**************************************************\n",
      "a=array([[1., 1., 1.],\n",
      "       [1., 1., 1.],\n",
      "       [1., 1., 1.],\n",
      "       [1., 1., 1.]])\n",
      "a.ndim=2\n",
      "a.shape=(4, 3)\n",
      "a.dtype=dtype('float64')\n",
      "a.size=12\n",
      "**************************************************\n"
     ]
    }
   ],
   "source": [
    "a = np.ones((2,3))\n",
    "print(f'{a=}')\n",
    "print(f'{a.ndim=}')\n",
    "print(f'{a.shape=}')\n",
    "print(f'{a.dtype=}')\n",
    "print(f'{a.size=}')\n",
    "print('*'*50)\n",
    "a = np.ones((2, 4, 3))\n",
    "print(f'{a=}')\n",
    "print(f'{a.ndim=}')\n",
    "print(f'{a.shape=}')\n",
    "print(f'{a.dtype=}')\n",
    "print(f'{a.size=}')\n",
    "print('*'*50)\n",
    "a = np.ones((4,3))\n",
    "print(f'{a=}')\n",
    "print(f'{a.ndim=}')\n",
    "print(f'{a.shape=}')\n",
    "print(f'{a.dtype=}')\n",
    "print(f'{a.size=}')\n",
    "print('*'*50)"
   ]
  },
  {
   "attachments": {},
   "cell_type": "markdown",
   "metadata": {},
   "source": [
    "# full:\n",
    "it gives nd array full of provided number."
   ]
  },
  {
   "cell_type": "code",
   "execution_count": 2,
   "metadata": {},
   "outputs": [
    {
     "name": "stdout",
     "output_type": "stream",
     "text": [
      "a=array([[5, 5, 5],\n",
      "       [5, 5, 5]])\n",
      "a.ndim=2\n",
      "a.shape=(2, 3)\n",
      "a.dtype=dtype('int32')\n",
      "a.size=6\n",
      "**************************************************\n",
      "a=array([[[6, 6, 6],\n",
      "        [6, 6, 6],\n",
      "        [6, 6, 6],\n",
      "        [6, 6, 6]],\n",
      "\n",
      "       [[6, 6, 6],\n",
      "        [6, 6, 6],\n",
      "        [6, 6, 6],\n",
      "        [6, 6, 6]]])\n",
      "a.ndim=3\n",
      "a.shape=(2, 4, 3)\n",
      "a.dtype=dtype('int32')\n",
      "a.size=24\n",
      "**************************************************\n",
      "a=array([7, 7, 7, 7, 7, 7, 7, 7, 7, 7])\n",
      "a.ndim=1\n",
      "a.shape=(10,)\n",
      "a.dtype=dtype('int32')\n",
      "a.size=10\n",
      "**************************************************\n"
     ]
    }
   ],
   "source": [
    "a = np.full((2,3), 5)\n",
    "print(f'{a=}')\n",
    "print(f'{a.ndim=}')\n",
    "print(f'{a.shape=}')\n",
    "print(f'{a.dtype=}')\n",
    "print(f'{a.size=}')\n",
    "print('*'*50)\n",
    "a = np.full((2, 4, 3), 6)\n",
    "print(f'{a=}')\n",
    "print(f'{a.ndim=}')\n",
    "print(f'{a.shape=}')\n",
    "print(f'{a.dtype=}')\n",
    "print(f'{a.size=}')\n",
    "print('*'*50)\n",
    "a = np.full(10, 7)\n",
    "print(f'{a=}')\n",
    "print(f'{a.ndim=}')\n",
    "print(f'{a.shape=}')\n",
    "print(f'{a.dtype=}')\n",
    "print(f'{a.size=}')\n",
    "print('*'*50)"
   ]
  },
  {
   "cell_type": "markdown",
   "metadata": {},
   "source": []
  },
  {
   "cell_type": "markdown",
   "metadata": {},
   "source": []
  }
 ],
 "metadata": {
  "kernelspec": {
   "display_name": "Python 3",
   "language": "python",
   "name": "python3"
  },
  "language_info": {
   "codemirror_mode": {
    "name": "ipython",
    "version": 3
   },
   "file_extension": ".py",
   "mimetype": "text/x-python",
   "name": "python",
   "nbconvert_exporter": "python",
   "pygments_lexer": "ipython3",
   "version": "3.10.10"
  },
  "orig_nbformat": 4
 },
 "nbformat": 4,
 "nbformat_minor": 2
}
